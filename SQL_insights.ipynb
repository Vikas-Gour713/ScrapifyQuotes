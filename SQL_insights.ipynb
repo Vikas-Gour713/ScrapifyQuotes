{
 "cells": [
  {
   "cell_type": "markdown",
   "id": "8ca646ad-4d4b-4022-9957-29a3e20bd579",
   "metadata": {},
   "source": [
    "## SQL Insights"
   ]
  },
  {
   "cell_type": "code",
   "execution_count": 10,
   "id": "20df7015-8763-41e4-9594-c70ba4a25dd4",
   "metadata": {},
   "outputs": [
    {
     "name": "stdout",
     "output_type": "stream",
     "text": [
      "Connection successfully created\n"
     ]
    }
   ],
   "source": [
    "import pymysql\n",
    "try:\n",
    "    # Establishing a connection to the MySQL database\n",
    "    conn = pymysql.connect(\n",
    "        host='127.0.0.1',  # Localhost IP address\n",
    "        user='root',        # MySQL username\n",
    "        password='Vikas@123',  # MySQL password (Consider using environment variables for security)\n",
    "        database='usersystem'  # Target database name\n",
    "    )\n",
    "    print(\"Connection successfully created\")\n",
    "\n",
    "except pymysql.MySQLError as err:\n",
    "    print(f\"Error: {err}\")\n"
   ]
  },
  {
   "cell_type": "markdown",
   "id": "58cd9ac3-913d-47df-aa91-88e604af40e4",
   "metadata": {},
   "source": [
    "#### 1. Find the number of quotes by each author."
   ]
  },
  {
   "cell_type": "code",
   "execution_count": 6,
   "id": "9974f38b-8186-4ac8-b9eb-c9c71004aa3b",
   "metadata": {},
   "outputs": [],
   "source": [
    "cursor = conn.cursor() # Create a cursor object to interact with the database\n",
    "\n",
    "# Define the SQL query to count the number of quotes per author\n",
    "# The query groups the results by author and orders them in descending order based on quote count\n",
    "query = \"\"\"\n",
    "SELECT author, COUNT(*) as quote_count \n",
    "FROM quotes \n",
    "GROUP BY author \n",
    "ORDER BY quote_count DESC;\n",
    "\"\"\"\n",
    "cursor.execute(query) # Execute the SQL query                            \n",
    "results = cursor.fetchall() # Fetch all results from the executed query\n",
    "print(\"Number of quotes by each author:\")\n",
    "\n",
    "# Iterate through the results and print each author's name along with their quote count\n",
    "for row in results:\n",
    "    print(f\"{row[0]}: {row[1]} quotes\")\n"
   ]
  },
  {
   "cell_type": "markdown",
   "id": "7c8b8e27-beb8-4ec6-8ef5-3598e4deb064",
   "metadata": {},
   "source": [
    "#### 2.  Query to find the top 5 most common tags"
   ]
  },
  {
   "cell_type": "code",
   "execution_count": 9,
   "id": "cc35f50d-8ca4-4954-8700-8740c0d902b3",
   "metadata": {},
   "outputs": [],
   "source": [
    "# Define the SQL query to count the most common tags from the quotes table\n",
    "query = \"\"\"\n",
    "    SELECT tag, COUNT(*) AS tag_count\n",
    "    FROM (\n",
    "        SELECT SUBSTRING_INDEX(SUBSTRING_INDEX(tag_name, ',', numbers.n), ',', -1) AS tag\n",
    "        FROM quotes\n",
    "        JOIN (SELECT 1 n UNION ALL SELECT 2 UNION ALL SELECT 3 UNION ALL SELECT 4 UNION ALL SELECT 5) numbers\n",
    "        ON CHAR_LENGTH(tag_name) - CHAR_LENGTH(REPLACE(tag_name, ',', '')) >= numbers.n - 1\n",
    "    ) tag_table\n",
    "    GROUP BY tag\n",
    "    ORDER BY tag_count DESC\n",
    "    LIMIT 5;\n",
    "\"\"\"\n",
    "cursor.execute(query) # Execute the SQL query\n",
    "results = cursor.fetchall()  # Fetch all results from the executed query\n",
    "print(\"Top 5 Most Common Tags:\")  # Display results in a readable format\n",
    "for row in results:\n",
    "    print(f\"{row[0]}: {row[1]} times\")\n"
   ]
  },
  {
   "cell_type": "markdown",
   "id": "503e7d33-11d3-404c-9e00-2a721f1aa81d",
   "metadata": {},
   "source": [
    "#### 3. Find authors who have more than 5 quotes"
   ]
  },
  {
   "cell_type": "code",
   "execution_count": 7,
   "id": "667100ae-65c6-4ca8-821e-3f7235a06a42",
   "metadata": {},
   "outputs": [
    {
     "name": "stdout",
     "output_type": "stream",
     "text": [
      "(('Albert Einstein', 10), ('J.K. Rowling', 9), ('Marilyn Monroe', 7), ('Dr. Seuss', 6), ('Mark Twain', 6))\n"
     ]
    }
   ],
   "source": [
    "query = \"\"\"\n",
    "    SELECT author, COUNT(*) AS quote_count\n",
    "    FROM quotes\n",
    "    GROUP BY author\n",
    "    HAVING COUNT(*) > 5\n",
    "    ORDER BY quote_count DESC;\n",
    "    \"\"\"\n",
    "cursor.execute(query)\n",
    "results = cursor.fetchall()\n",
    "print(results)"
   ]
  },
  {
   "cell_type": "markdown",
   "id": "c338b16e-a561-416e-9e7e-e0e49abaa51a",
   "metadata": {},
   "source": [
    "#### 4. Retrieve the longest quote and its author.\r\n"
   ]
  },
  {
   "cell_type": "code",
   "execution_count": null,
   "id": "3a68dab9-d217-4e51-a597-2d0e8d2447b6",
   "metadata": {},
   "outputs": [],
   "source": [
    "query = \"\"\"\n",
    "    SELECT author, quote\n",
    "    FROM quotes\n",
    "    ORDER BY CHAR_LENGTH(quote) DESC\n",
    "    LIMIT 1;\n",
    "    \"\"\"\n",
    "cursor.execute(query)\n",
    "result = cursor.fetchone()\n",
    "print(result)\n"
   ]
  },
  {
   "cell_type": "markdown",
   "id": "cea99bef-9eac-4280-a785-3f61b2d2397e",
   "metadata": {},
   "source": [
    "## Main objective "
   ]
  },
  {
   "cell_type": "markdown",
   "id": "34397e3f-9133-4553-9af4-f004badaa0a2",
   "metadata": {},
   "source": [
    "#### The primary goal of this script is to analyze and extract insights from a quotes database (quotes table) stored in a MySQL database (usersystem). It performs multiple SQL queries to gather useful information about authors and tags."
   ]
  },
  {
   "cell_type": "markdown",
   "id": "faa8d7e4-246a-45ea-a1a9-9f6c69b614f4",
   "metadata": {},
   "source": [
    "### Overall Purpose\n",
    "This script helps in data analysis of a quotes database by:                                                                                        \n",
    "✅ Identifying the most prolific authors.                                                                                                           \n",
    "✅ Finding the most frequently used tags.                                                                                                              \n",
    "✅ Filtering authors based on a minimum number of quotes.                                                                                               \n",
    "✅ Extracting the longest quote."
   ]
  },
  {
   "cell_type": "code",
   "execution_count": null,
   "id": "0b986594-e53b-423c-98a0-77c2fae6379f",
   "metadata": {},
   "outputs": [],
   "source": []
  },
  {
   "cell_type": "code",
   "execution_count": null,
   "id": "0d5ca2aa-71f4-48d0-85f5-f04ad3e2c30c",
   "metadata": {},
   "outputs": [],
   "source": []
  },
  {
   "cell_type": "code",
   "execution_count": null,
   "id": "a83b92fe-beb3-49a5-898a-f528ec174d55",
   "metadata": {},
   "outputs": [],
   "source": []
  }
 ],
 "metadata": {
  "kernelspec": {
   "display_name": "Python 3 (ipykernel)",
   "language": "python",
   "name": "python3"
  },
  "language_info": {
   "codemirror_mode": {
    "name": "ipython",
    "version": 3
   },
   "file_extension": ".py",
   "mimetype": "text/x-python",
   "name": "python",
   "nbconvert_exporter": "python",
   "pygments_lexer": "ipython3",
   "version": "3.11.7"
  },
  "widgets": {
   "application/vnd.jupyter.widget-state+json": {
    "state": {},
    "version_major": 2,
    "version_minor": 0
   }
  }
 },
 "nbformat": 4,
 "nbformat_minor": 5
}
