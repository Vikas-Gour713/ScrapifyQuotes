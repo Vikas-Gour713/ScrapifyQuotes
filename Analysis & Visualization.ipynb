{
 "cells": [
  {
   "cell_type": "markdown",
   "id": "3ca5e225-4e06-4c48-822a-e94722631c08",
   "metadata": {},
   "source": [
    "## Exploratory Data Analysis (EDA) and Data Visualization\n",
    "### Basic EDA - basic EDA operation for the better dataset understanding. It's very usefull for Analysis and Visualization."
   ]
  },
  {
   "cell_type": "code",
   "execution_count": null,
   "id": "15ff8af0-4898-44d0-a36a-582b3bd010f7",
   "metadata": {},
   "outputs": [],
   "source": [
    "import pandas as pd\n"
   ]
  },
  {
   "cell_type": "code",
   "execution_count": null,
   "id": "5c1cf74a-a2f4-45ec-86f5-cb49d8675d3c",
   "metadata": {},
   "outputs": [],
   "source": [
    "Df=pd.read_csv(\"quotes.csv\")\n",
    "Df.head()                          # It's very basic how lookes like my dataset"
   ]
  },
  {
   "cell_type": "markdown",
   "id": "0735d155-30f3-480f-9548-374bf0f8f22d",
   "metadata": {},
   "source": [
    "##### 1. How much null values in my dataset."
   ]
  },
  {
   "cell_type": "code",
   "execution_count": null,
   "id": "20fafc89-1a42-4f75-b66a-6aaceb580ce0",
   "metadata": {},
   "outputs": [],
   "source": [
    "missing_values = df.isnull().sum()\n",
    "print(f\"\\nMissing Values:\\n{missing_values}\")"
   ]
  },
  {
   "cell_type": "markdown",
   "id": "f8b34430-a15d-47e0-b521-ebd5eaea4994",
   "metadata": {},
   "source": [
    "##### 2. Total number of quotes"
   ]
  },
  {
   "cell_type": "code",
   "execution_count": null,
   "id": "05c9e6c6-70fc-40f4-8092-8dd0780dde13",
   "metadata": {},
   "outputs": [],
   "source": [
    "unique_authors = Df['author'].nunique()\n",
    "print(f\"Unique Authors: {unique_authors}\")"
   ]
  },
  {
   "cell_type": "markdown",
   "id": "680d3460-895d-48fd-b83e-d6b84885117b",
   "metadata": {},
   "source": [
    "##### 3. Total number of unique tags"
   ]
  },
  {
   "cell_type": "code",
   "execution_count": null,
   "id": "72b1e0bc-0752-4d91-9389-93dd0cab8edb",
   "metadata": {},
   "outputs": [],
   "source": [
    "all_tags = Df['tag_name'].dropna().str.split(',').explode().str.strip()\n",
    "unique_tags = all_tags.nunique()\n",
    "print(f\"\\nTotal Unique Tags: {unique_tags}\")"
   ]
  },
  {
   "cell_type": "markdown",
   "id": "742c10a4-40ea-43ae-a546-10063f3c240b",
   "metadata": {},
   "source": [
    "##### 5. Average length of quotes"
   ]
  },
  {
   "cell_type": "code",
   "execution_count": null,
   "id": "6a46dace-785e-45cf-90f1-8e37357de257",
   "metadata": {},
   "outputs": [],
   "source": [
    "avg_quote_length = Df['quote'].str.len().mean()\n",
    "print(f\"Average Quote Length: {avg_quote_length:.2f} characters\")\n"
   ]
  },
  {
   "cell_type": "markdown",
   "id": "ed46124e-cbd2-4253-9329-49f1a23622e9",
   "metadata": {},
   "source": [
    "##### 6. Display descriptive statistics"
   ]
  },
  {
   "cell_type": "code",
   "execution_count": null,
   "id": "10b17206-2821-4e77-98ac-5ba3fe9a3a1f",
   "metadata": {},
   "outputs": [],
   "source": [
    "print(\"\\nDescriptive Statistics:\\n\", Df.describe(include='all'))"
   ]
  },
  {
   "cell_type": "code",
   "execution_count": null,
   "id": "50579eaa-a251-4e44-9757-3dcedbfb4b5d",
   "metadata": {},
   "outputs": [],
   "source": [
    "import pandas as pd\n",
    "import matplotlib.pyplot as plt\n",
    "import seaborn as sns\n",
    "from wordcloud import WordCloud\n",
    "import re\n",
    "\n",
    "sns.set(style=\"whitegrid\") # Set plot style"
   ]
  },
  {
   "cell_type": "markdown",
   "id": "6c68684f-6dec-41ec-a643-3e1cb84e3099",
   "metadata": {},
   "source": [
    "## Visualization"
   ]
  },
  {
   "cell_type": "markdown",
   "id": "1b388aab-1f70-4eda-97e8-90648564aaea",
   "metadata": {},
   "source": [
    "### 1. Bar Chart - Top 10 Most Quoted Authors"
   ]
  },
  {
   "cell_type": "code",
   "execution_count": null,
   "id": "2f068852-7164-4e2a-896d-2db7c6ff06b4",
   "metadata": {},
   "outputs": [],
   "source": [
    "top_authors = Df['author'].value_counts().head(10)  # Count the number of quotes per author and select the top 10 most quoted authors\n",
    "plt.figure(figsize=(12, 6))\n",
    "sns.barplot(x=top_authors.values, y=top_authors.index, palette=\"viridis\") # Create a horizontal bar plot to visualize the top 10 quoted authors\n",
    "plt.xlabel(\"Number of Quotes\")\n",
    "plt.ylabel(\"Author\")\n",
    "plt.title(\"Top 10 Most Quoted Authors\")\n",
    "plt.show()\n"
   ]
  },
  {
   "cell_type": "markdown",
   "id": "8070c645-ac2d-4235-a5e0-5fb78c2a6d26",
   "metadata": {},
   "source": [
    "### 2. Word Cloud - Most Common Words in Quotes"
   ]
  },
  {
   "cell_type": "code",
   "execution_count": null,
   "id": "4c980621-43dc-4a2d-8b70-5f12fabe32b8",
   "metadata": {},
   "outputs": [],
   "source": [
    "all_text = \" \".join(Df['quote'])  # Combine all quotes into one large string\n",
    "all_text = re.sub(r\"[^\\w\\s]\", \"\", all_text).lower()  # Clean text: remove special characters and convert to lowercase\n",
    "\n",
    "wordcloud = WordCloud(width=800, height=400, background_color=\"white\", colormap=\"viridis\").generate(all_text)\n",
    "\n",
    "plt.figure(figsize=(12, 6))\n",
    "plt.imshow(wordcloud, interpolation=\"bilinear\")\n",
    "plt.axis(\"off\")\n",
    "plt.title(\"Most Common Words in Quotes\")\n",
    "plt.show()"
   ]
  },
  {
   "cell_type": "markdown",
   "id": "3bcad315-fa7b-4952-ad47-7c76dbc4f1d6",
   "metadata": {},
   "source": [
    "### 3. Pie Chart - Proportion of Top 5 Tags"
   ]
  },
  {
   "cell_type": "code",
   "execution_count": 2,
   "id": "2073ca50-4a4a-4e77-9354-bde2932fa7ad",
   "metadata": {},
   "outputs": [],
   "source": [
    "all_tags = df['tag_name'].dropna().str.split(',').explode().str.strip()  # Split tags and count occurrences\n",
    "top_tags = all_tags.value_counts().head(5)\n",
    "\n",
    "plt.figure(figsize=(8, 8))\n",
    "plt.pie(top_tags, labels=top_tags.index, autopct='%1.1f%%', colors=sns.color_palette(\"viridis\", 5))\n",
    "plt.title(\"Proportion of Top 5 Tags\")\n",
    "plt.show()"
   ]
  },
  {
   "cell_type": "markdown",
   "id": "bea097b3-5bbe-4612-8d87-5e5d53f70daa",
   "metadata": {
    "jp-MarkdownHeadingCollapsed": true
   },
   "source": [
    "## Purpose & Insights:\n",
    "#### 1. Identify which authors have the most quotes in the dataset.\n",
    "#### 2. Useful for content analysis, literary studies, or recommendation systems.\n",
    "#### 3. Help in understanding the most influential or frequently cited authors."
   ]
  },
  {
   "cell_type": "code",
   "execution_count": null,
   "id": "160c41a1-5e2a-49fa-84cc-aa189f790ddb",
   "metadata": {},
   "outputs": [],
   "source": []
  },
  {
   "cell_type": "code",
   "execution_count": null,
   "id": "1662a3b4-261f-4c99-958d-650e575ae1da",
   "metadata": {},
   "outputs": [],
   "source": []
  },
  {
   "cell_type": "code",
   "execution_count": null,
   "id": "24b47b99-bbb9-4607-a639-5e7fc7bd6796",
   "metadata": {},
   "outputs": [],
   "source": []
  }
 ],
 "metadata": {
  "kernelspec": {
   "display_name": "Python 3 (ipykernel)",
   "language": "python",
   "name": "python3"
  },
  "language_info": {
   "codemirror_mode": {
    "name": "ipython",
    "version": 3
   },
   "file_extension": ".py",
   "mimetype": "text/x-python",
   "name": "python",
   "nbconvert_exporter": "python",
   "pygments_lexer": "ipython3",
   "version": "3.11.7"
  },
  "widgets": {
   "application/vnd.jupyter.widget-state+json": {
    "state": {},
    "version_major": 2,
    "version_minor": 0
   }
  }
 },
 "nbformat": 4,
 "nbformat_minor": 5
}
