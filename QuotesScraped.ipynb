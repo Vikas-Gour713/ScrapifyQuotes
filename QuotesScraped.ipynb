{
 "cells": [
  {
   "cell_type": "code",
   "execution_count": null,
   "id": "c38be272-2886-46c3-9b7a-b5adf233ee4b",
   "metadata": {},
   "outputs": [],
   "source": [
    "import requests\n",
    "from bs4 import BeautifulSoup\n",
    "import csv"
   ]
  },
  {
   "cell_type": "code",
   "execution_count": 6,
   "id": "72863a77-9115-4ee3-a0f6-06ac3ead74d9",
   "metadata": {},
   "outputs": [],
   "source": [
    "base_url = \"http://quotes.toscrape.com/page/\"  # Send a GET request to the current page\n",
    "quotes_list=[]     # List to store scraped quote data\n",
    "tag_list=[]                           # Parse HTML content\n",
    "author_list=[]   # List to store scraped quote data\n",
    "tag_list=[]\n"
   ]
  },
  {
   "cell_type": "code",
   "execution_count": 12,
   "id": "482dc382-5a70-48e6-b3af-c042a205e4d8",
   "metadata": {},
   "outputs": [],
   "source": [
    "import pandas as pd\n",
    "page_no=1                                   # Starting URL for page 1\n",
    "while True:\n",
    "    url=f\"{base_url}{page_no}/\"\n",
    "    response=requests.get(url)\n",
    "    if response.status_code!=200:\n",
    "        break\n",
    "    soup=BeautifulSoup(response.text,\"html.parser\")\n",
    "\n",
    "    quotes=soup.find_all(\"div\",class_=\"quote\")\n",
    "    if not quotes:\n",
    "        break\n",
    "    for quote in quotes:\n",
    "        text=quote.find(\"span\",class_=\"text\").text.strip()\n",
    "        quotes_list.append(text)                             # Extract quote text\n",
    "\n",
    "        author=quote.find(\"small\",class_=\"author\").text.strip()\n",
    "        author_list.append(author)                           # Extract author name\n",
    "\n",
    "        tags=quote.find_all(\"a\",class_=\"tag\")\n",
    "        tag_name=[]                                           # Extract tags\n",
    "        for tag in tags:\n",
    "            tag_name.append(tag.text)\n",
    "        tag_names_string=\",\".join(tag_name)\n",
    "        tag_list.append(tag_names_string)\n",
    "    page_no+=1                                           # Update URL to the next page\n"
   ]
  },
  {
   "cell_type": "code",
   "execution_count": 16,
   "id": "1f7ba6c8-eac9-458f-94f5-a8e506d76639",
   "metadata": {},
   "outputs": [
    {
     "name": "stdout",
     "output_type": "stream",
     "text": [
      " Data saved to 'Quotes_Details.csv'\n"
     ]
    }
   ],
   "source": [
    "df = pd.DataFrame({\n",
    "    \"Author\": author_list,\n",
    "    \"Quote\": quotes_list,\n",
    "    \"Tags\": tag_list                      # help of pandas save data into csv file\n",
    "})\n",
    "\n",
    "df.to_csv(\"quotes.csv\", index=False, encoding=\"utf-8\")\n",
    "print(\" Data saved to 'Quotes_Details.csv'\")"
   ]
  },
  {
   "cell_type": "code",
   "execution_count": 14,
   "id": "4f150b0c-884a-4539-aee2-f4dfefd04d7f",
   "metadata": {},
   "outputs": [
    {
     "data": {
      "text/html": [
       "<div>\n",
       "<style scoped>\n",
       "    .dataframe tbody tr th:only-of-type {\n",
       "        vertical-align: middle;\n",
       "    }\n",
       "\n",
       "    .dataframe tbody tr th {\n",
       "        vertical-align: top;\n",
       "    }\n",
       "\n",
       "    .dataframe thead th {\n",
       "        text-align: right;\n",
       "    }\n",
       "</style>\n",
       "<table border=\"1\" class=\"dataframe\">\n",
       "  <thead>\n",
       "    <tr style=\"text-align: right;\">\n",
       "      <th></th>\n",
       "      <th>Author</th>\n",
       "      <th>Quote</th>\n",
       "      <th>Tags</th>\n",
       "    </tr>\n",
       "  </thead>\n",
       "  <tbody>\n",
       "    <tr>\n",
       "      <th>0</th>\n",
       "      <td>Albert Einstein</td>\n",
       "      <td>“The world as we have created it is a process ...</td>\n",
       "      <td>change,deep-thoughts,thinking,world</td>\n",
       "    </tr>\n",
       "    <tr>\n",
       "      <th>1</th>\n",
       "      <td>J.K. Rowling</td>\n",
       "      <td>“It is our choices, Harry, that show what we t...</td>\n",
       "      <td>abilities,choices</td>\n",
       "    </tr>\n",
       "    <tr>\n",
       "      <th>2</th>\n",
       "      <td>Albert Einstein</td>\n",
       "      <td>“There are only two ways to live your life. On...</td>\n",
       "      <td>inspirational,life,live,miracle,miracles</td>\n",
       "    </tr>\n",
       "    <tr>\n",
       "      <th>3</th>\n",
       "      <td>Jane Austen</td>\n",
       "      <td>“The person, be it gentleman or lady, who has ...</td>\n",
       "      <td>aliteracy,books,classic,humor</td>\n",
       "    </tr>\n",
       "    <tr>\n",
       "      <th>4</th>\n",
       "      <td>Marilyn Monroe</td>\n",
       "      <td>“Imperfection is beauty, madness is genius and...</td>\n",
       "      <td>be-yourself,inspirational</td>\n",
       "    </tr>\n",
       "    <tr>\n",
       "      <th>...</th>\n",
       "      <td>...</td>\n",
       "      <td>...</td>\n",
       "      <td>...</td>\n",
       "    </tr>\n",
       "    <tr>\n",
       "      <th>195</th>\n",
       "      <td>Harper Lee</td>\n",
       "      <td>“You never really understand a person until yo...</td>\n",
       "      <td>better-life-empathy</td>\n",
       "    </tr>\n",
       "    <tr>\n",
       "      <th>196</th>\n",
       "      <td>Madeleine L'Engle</td>\n",
       "      <td>“You have to write the book that wants to be w...</td>\n",
       "      <td>books,children,difficult,grown-ups,write,write...</td>\n",
       "    </tr>\n",
       "    <tr>\n",
       "      <th>197</th>\n",
       "      <td>Mark Twain</td>\n",
       "      <td>“Never tell the truth to people who are not wo...</td>\n",
       "      <td>truth</td>\n",
       "    </tr>\n",
       "    <tr>\n",
       "      <th>198</th>\n",
       "      <td>Dr. Seuss</td>\n",
       "      <td>“A person's a person, no matter how small.”</td>\n",
       "      <td>inspirational</td>\n",
       "    </tr>\n",
       "    <tr>\n",
       "      <th>199</th>\n",
       "      <td>George R.R. Martin</td>\n",
       "      <td>“... a mind needs books as a sword needs a whe...</td>\n",
       "      <td>books,mind</td>\n",
       "    </tr>\n",
       "  </tbody>\n",
       "</table>\n",
       "<p>200 rows × 3 columns</p>\n",
       "</div>"
      ],
      "text/plain": [
       "                 Author                                              Quote  \\\n",
       "0       Albert Einstein  “The world as we have created it is a process ...   \n",
       "1          J.K. Rowling  “It is our choices, Harry, that show what we t...   \n",
       "2       Albert Einstein  “There are only two ways to live your life. On...   \n",
       "3           Jane Austen  “The person, be it gentleman or lady, who has ...   \n",
       "4        Marilyn Monroe  “Imperfection is beauty, madness is genius and...   \n",
       "..                  ...                                                ...   \n",
       "195          Harper Lee  “You never really understand a person until yo...   \n",
       "196   Madeleine L'Engle  “You have to write the book that wants to be w...   \n",
       "197          Mark Twain  “Never tell the truth to people who are not wo...   \n",
       "198           Dr. Seuss        “A person's a person, no matter how small.”   \n",
       "199  George R.R. Martin  “... a mind needs books as a sword needs a whe...   \n",
       "\n",
       "                                                  Tags  \n",
       "0                  change,deep-thoughts,thinking,world  \n",
       "1                                    abilities,choices  \n",
       "2             inspirational,life,live,miracle,miracles  \n",
       "3                        aliteracy,books,classic,humor  \n",
       "4                            be-yourself,inspirational  \n",
       "..                                                 ...  \n",
       "195                                better-life-empathy  \n",
       "196  books,children,difficult,grown-ups,write,write...  \n",
       "197                                              truth  \n",
       "198                                      inspirational  \n",
       "199                                         books,mind  \n",
       "\n",
       "[200 rows x 3 columns]"
      ]
     },
     "execution_count": 14,
     "metadata": {},
     "output_type": "execute_result"
    }
   ],
   "source": [
    "df"
   ]
  },
  {
   "cell_type": "markdown",
   "id": "68d0ff88-1cab-4cad-a611-2f6787acd28a",
   "metadata": {},
   "source": [
    "# Main Objective of this code"
   ]
  },
  {
   "cell_type": "markdown",
   "id": "69ad89ab-3e9a-41fc-bae0-049a8bf7fc81",
   "metadata": {},
   "source": [
    "### 1. Web Scraping - Extract quotes, author names, and tags from multiple pages of the website.\n"
   ]
  },
  {
   "cell_type": "markdown",
   "id": "26f7c813-f77a-4196-96cc-f5a7157050c7",
   "metadata": {},
   "source": [
    "### 2. Data Collection & Storage - Save the scraped data into a CSV file for easy access and analysis."
   ]
  },
  {
   "cell_type": "markdown",
   "id": "144afd0e-dd61-4392-9786-bd0e027a8db2",
   "metadata": {},
   "source": []
  },
  {
   "cell_type": "code",
   "execution_count": null,
   "id": "766b774a-2d1c-433c-b4b0-ab22cac21bbe",
   "metadata": {},
   "outputs": [],
   "source": []
  }
 ],
 "metadata": {
  "kernelspec": {
   "display_name": "Python 3 (ipykernel)",
   "language": "python",
   "name": "python3"
  },
  "language_info": {
   "codemirror_mode": {
    "name": "ipython",
    "version": 3
   },
   "file_extension": ".py",
   "mimetype": "text/x-python",
   "name": "python",
   "nbconvert_exporter": "python",
   "pygments_lexer": "ipython3",
   "version": "3.11.7"
  },
  "widgets": {
   "application/vnd.jupyter.widget-state+json": {
    "state": {},
    "version_major": 2,
    "version_minor": 0
   }
  }
 },
 "nbformat": 4,
 "nbformat_minor": 5
}
